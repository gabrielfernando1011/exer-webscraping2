{
 "cells": [
  {
   "cell_type": "code",
   "execution_count": 1,
   "metadata": {},
   "outputs": [
    {
     "name": "stdout",
     "output_type": "stream",
     "text": [
      "                                                 marca        preco\n",
      "0    Cadeira Gamer Corsair T3 Rush 2023, Até 120Kg,...  R$ 1.299,90\n",
      "1    Cadeira Gamer Corsair TC100 Relaxed Fabric, At...  R$ 1.099,90\n",
      "2    Cadeira Gamer KBM! GAMING CG200, Preto - Pistã...    R$ 599,90\n",
      "3    Cadeira Gamer KBM! GAMING CG200, Preto e Branc...    R$ 599,90\n",
      "4    Cadeira Gamer KBM! GAMING Tempest CG600, Preta...    R$ 889,90\n",
      "..                                                 ...          ...\n",
      "742        Cadeira Gamer Havit GC932, Vermelho E Preto  R$ 1.259,91\n",
      "743  Cadeira Gamer Stars, Com Encosto Reclinável, M...    R$ 733,94\n",
      "744  Cadeira Gamer Boxbit Raptor, Preta E Cinza, Ba...    R$ 661,63\n",
      "745  Cadeira Gamer XT Racer Taycan Escritório Ergon...  R$ 1.329,05\n",
      "746  Cadeira Gamer XT Racer Taycan Escritório Ergon...  R$ 1.329,05\n",
      "\n",
      "[747 rows x 2 columns]\n"
     ]
    }
   ],
   "source": [
    "import pandas as pd\n",
    "\n",
    "df = pd.read_excel(\"cadeiras.xlsx\")\n",
    "print(df)"
   ]
  },
  {
   "cell_type": "code",
   "execution_count": null,
   "metadata": {},
   "outputs": [],
   "source": [
    "cores = [\n",
    "    \"preto\", \"branco\"\n",
    "]\n",
    "\n",
    "def extrair_cor(texto):\n",
    "    texto = texto.lower()\n",
    "    for cor in cores:\n",
    "        if cor in texto:\n",
    "            return cor\n",
    "    return \"Desconhecida\"\n",
    "df[\"cor_principal\"] = df[\"marca\"].apply(extrair_cor)\n",
    "\n",
    "df[['marca', 'cor_principal']].head(10)\n",
    "        "
   ]
  }
 ],
 "metadata": {
  "kernelspec": {
   "display_name": "Python 3",
   "language": "python",
   "name": "python3"
  },
  "language_info": {
   "codemirror_mode": {
    "name": "ipython",
    "version": 3
   },
   "file_extension": ".py",
   "mimetype": "text/x-python",
   "name": "python",
   "nbconvert_exporter": "python",
   "pygments_lexer": "ipython3",
   "version": "3.12.1"
  }
 },
 "nbformat": 4,
 "nbformat_minor": 2
}
